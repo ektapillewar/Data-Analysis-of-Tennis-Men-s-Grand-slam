{
 "cells": [
  {
   "cell_type": "code",
   "execution_count": 2,
   "metadata": {},
   "outputs": [],
   "source": [
    "import pandas as pd"
   ]
  },
  {
   "cell_type": "code",
   "execution_count": 4,
   "metadata": {},
   "outputs": [],
   "source": [
    "df=pd.read_excel(\"Men's Winner.xlsx\")"
   ]
  },
  {
   "cell_type": "code",
   "execution_count": 8,
   "metadata": {},
   "outputs": [
    {
     "name": "stdout",
     "output_type": "stream",
     "text": [
      "   YEAR       TOURNAMENT          WINNER           RUNNER-UP  \\\n",
      "0  2023  Australian Open  Novak Djokovic  Stefanos Tsitsipas   \n",
      "1  2022        U.S. Open  Carlos Alcaraz         Casper Rudd   \n",
      "2  2022        Wimbledon  Novak Djokovic        Nick Kyrgios   \n",
      "3  2022      French Open    Rafael Nadal         Casper Rudd   \n",
      "4  2022  Australian Open    Rafael Nadal     Daniil Medvedev   \n",
      "\n",
      "  WINNER_NATIONALITY  WINNER_ATP_RANKING  RUNNER-UP_ATP_RANKING  \\\n",
      "0            Serbian                 1.0                    3.0   \n",
      "1            Spanish                 2.0                    5.0   \n",
      "2            Serbian                 NaN                   25.0   \n",
      "3            Spanish                 5.0                    8.0   \n",
      "4            Spanish                 5.0                    2.0   \n",
      "\n",
      "  WINNER_LEFT_OR_RIGHT_HANDED     TOURNAMENT_SURFACE  WINNER_PRIZE  \n",
      "0                       right  Plexicushion Prestige     2050000.0  \n",
      "1                       right    DecoTurf - outdoors     2600000.0  \n",
      "2                       right        Grass / Outdoor     2507460.0  \n",
      "3                        left                   Clay     1870000.0  \n",
      "4                        left  Plexicushion Prestige     4400000.0  \n"
     ]
    }
   ],
   "source": [
    "print(df.head())"
   ]
  },
  {
   "cell_type": "markdown",
   "metadata": {},
   "source": [
    "Cleaning the data"
   ]
  },
  {
   "cell_type": "code",
   "execution_count": 1,
   "metadata": {},
   "outputs": [],
   "source": [
    "import numpy as np\n",
    "import pandas as pd"
   ]
  },
  {
   "cell_type": "code",
   "execution_count": 2,
   "metadata": {},
   "outputs": [],
   "source": [
    "df=pd.read_excel(\"Men's Winner.xlsx\")"
   ]
  },
  {
   "cell_type": "code",
   "execution_count": 3,
   "metadata": {},
   "outputs": [
    {
     "name": "stdout",
     "output_type": "stream",
     "text": [
      "   YEAR       TOURNAMENT          WINNER           RUNNER-UP  \\\n",
      "0  2023  Australian Open  Novak Djokovic  Stefanos Tsitsipas   \n",
      "1  2022        U.S. Open  Carlos Alcaraz         Casper Rudd   \n",
      "2  2022        Wimbledon  Novak Djokovic        Nick Kyrgios   \n",
      "3  2022      French Open    Rafael Nadal         Casper Rudd   \n",
      "4  2022  Australian Open    Rafael Nadal     Daniil Medvedev   \n",
      "\n",
      "  WINNER_NATIONALITY  WINNER_ATP_RANKING  RUNNER-UP_ATP_RANKING  \\\n",
      "0            Serbian                 1.0                    3.0   \n",
      "1            Spanish                 2.0                    5.0   \n",
      "2            Serbian                 NaN                   25.0   \n",
      "3            Spanish                 5.0                    8.0   \n",
      "4            Spanish                 5.0                    2.0   \n",
      "\n",
      "  WINNER_LEFT_OR_RIGHT_HANDED     TOURNAMENT_SURFACE  WINNER_PRIZE  \n",
      "0                       right  Plexicushion Prestige     2050000.0  \n",
      "1                       right    DecoTurf - outdoors     2600000.0  \n",
      "2                       right        Grass / Outdoor     2507460.0  \n",
      "3                        left                   Clay     1870000.0  \n",
      "4                        left  Plexicushion Prestige     4400000.0  \n"
     ]
    }
   ],
   "source": [
    "print(df.head())"
   ]
  },
  {
   "cell_type": "code",
   "execution_count": 16,
   "metadata": {},
   "outputs": [
    {
     "name": "stdout",
     "output_type": "stream",
     "text": [
      "    YEAR       TOURNAMENT           WINNER           RUNNER-UP  \\\n",
      "0   2023  Australian Open   Novak Djokovic  Stefanos Tsitsipas   \n",
      "1   2022        U.S. Open   Carlos Alcaraz         Casper Rudd   \n",
      "3   2022      French Open     Rafael Nadal         Casper Rudd   \n",
      "4   2022  Australian Open     Rafael Nadal     Daniil Medvedev   \n",
      "5   2021        U.S. Open  Daniil Medvedev      Novak Djokovic   \n",
      "..   ...              ...              ...                 ...   \n",
      "59  2008  Australian Open   Novak Djokovic  Jo-Wilfried Tsonga   \n",
      "60  2007        U.S. Open    Roger Federer      Novak Djokovic   \n",
      "61  2007        Wimbledon    Roger Federer        Rafael Nadal   \n",
      "62  2007      French Open     Rafael Nadal       Roger Federer   \n",
      "63  2007  Australian Open    Roger Federer   Fernando Gonzalez   \n",
      "\n",
      "   WINNER_NATIONALITY  WINNER_ATP_RANKING  RUNNER-UP_ATP_RANKING  \\\n",
      "0             Serbian                 1.0                    3.0   \n",
      "1             Spanish                 2.0                    5.0   \n",
      "3             Spanish                 5.0                    8.0   \n",
      "4             Spanish                 5.0                    2.0   \n",
      "5             Russian                 2.0                    1.0   \n",
      "..                ...                 ...                    ...   \n",
      "59            Serbian                 3.0                    6.0   \n",
      "60              Swiss                 1.0                    3.0   \n",
      "61              Swiss                 1.0                    2.0   \n",
      "62            Spanish                 2.0                    1.0   \n",
      "63              Swiss                 1.0                    7.0   \n",
      "\n",
      "   WINNER_LEFT_OR_RIGHT_HANDED     TOURNAMENT_SURFACE  WINNER_PRIZE  \n",
      "0                        right  Plexicushion Prestige     2050000.0  \n",
      "1                        right    DecoTurf - outdoors     2600000.0  \n",
      "3                         left                   Clay     1870000.0  \n",
      "4                         left  Plexicushion Prestige     4400000.0  \n",
      "5                        right    DecoTurf - outdoors     2500000.0  \n",
      "..                         ...                    ...           ...  \n",
      "59                       right  Plexicushion Prestige     1370000.0  \n",
      "60                       right    DecoTurf - outdoors     1400000.0  \n",
      "61                       right        Grass / Outdoor      700000.0  \n",
      "62                        left                   Clay     1000000.0  \n",
      "63                       right            Rebound Ace     1281000.0  \n",
      "\n",
      "[63 rows x 10 columns]\n"
     ]
    }
   ],
   "source": [
    "print(df)"
   ]
  },
  {
   "cell_type": "code",
   "execution_count": 5,
   "metadata": {},
   "outputs": [
    {
     "name": "stdout",
     "output_type": "stream",
     "text": [
      "<class 'pandas.core.frame.DataFrame'>\n",
      "RangeIndex: 292 entries, 0 to 291\n",
      "Data columns (total 10 columns):\n",
      " #   Column                       Non-Null Count  Dtype  \n",
      "---  ------                       --------------  -----  \n",
      " 0   YEAR                         292 non-null    int64  \n",
      " 1   TOURNAMENT                   292 non-null    object \n",
      " 2   WINNER                       292 non-null    object \n",
      " 3   RUNNER-UP                    292 non-null    object \n",
      " 4   WINNER_NATIONALITY           292 non-null    object \n",
      " 5   WINNER_ATP_RANKING           63 non-null     float64\n",
      " 6   RUNNER-UP_ATP_RANKING        64 non-null     float64\n",
      " 7   WINNER_LEFT_OR_RIGHT_HANDED  292 non-null    object \n",
      " 8   TOURNAMENT_SURFACE           292 non-null    object \n",
      " 9   WINNER_PRIZE                 217 non-null    float64\n",
      "dtypes: float64(3), int64(1), object(6)\n",
      "memory usage: 22.9+ KB\n",
      "None\n"
     ]
    }
   ],
   "source": [
    "print(df.info())"
   ]
  },
  {
   "cell_type": "code",
   "execution_count": 6,
   "metadata": {},
   "outputs": [],
   "source": [
    "df.dropna(inplace=True)"
   ]
  },
  {
   "cell_type": "code",
   "execution_count": 18,
   "metadata": {},
   "outputs": [],
   "source": [
    "#remove rows (axis 0) from the DataFrame\n",
    "df.dropna(subset=['WINNER_ATP_RANKING', 'RUNNER-UP_ATP_RANKING', 'WINNER_PRIZE'], inplace=True)"
   ]
  },
  {
   "cell_type": "code",
   "execution_count": 15,
   "metadata": {},
   "outputs": [
    {
     "name": "stdout",
     "output_type": "stream",
     "text": [
      "    YEAR       TOURNAMENT           WINNER           RUNNER-UP  \\\n",
      "0   2023  Australian Open   Novak Djokovic  Stefanos Tsitsipas   \n",
      "1   2022        U.S. Open   Carlos Alcaraz         Casper Rudd   \n",
      "3   2022      French Open     Rafael Nadal         Casper Rudd   \n",
      "4   2022  Australian Open     Rafael Nadal     Daniil Medvedev   \n",
      "5   2021        U.S. Open  Daniil Medvedev      Novak Djokovic   \n",
      "..   ...              ...              ...                 ...   \n",
      "59  2008  Australian Open   Novak Djokovic  Jo-Wilfried Tsonga   \n",
      "60  2007        U.S. Open    Roger Federer      Novak Djokovic   \n",
      "61  2007        Wimbledon    Roger Federer        Rafael Nadal   \n",
      "62  2007      French Open     Rafael Nadal       Roger Federer   \n",
      "63  2007  Australian Open    Roger Federer   Fernando Gonzalez   \n",
      "\n",
      "   WINNER_NATIONALITY  WINNER_ATP_RANKING  RUNNER-UP_ATP_RANKING  \\\n",
      "0             Serbian                 1.0                    3.0   \n",
      "1             Spanish                 2.0                    5.0   \n",
      "3             Spanish                 5.0                    8.0   \n",
      "4             Spanish                 5.0                    2.0   \n",
      "5             Russian                 2.0                    1.0   \n",
      "..                ...                 ...                    ...   \n",
      "59            Serbian                 3.0                    6.0   \n",
      "60              Swiss                 1.0                    3.0   \n",
      "61              Swiss                 1.0                    2.0   \n",
      "62            Spanish                 2.0                    1.0   \n",
      "63              Swiss                 1.0                    7.0   \n",
      "\n",
      "   WINNER_LEFT_OR_RIGHT_HANDED     TOURNAMENT_SURFACE  WINNER_PRIZE  \n",
      "0                        right  Plexicushion Prestige     2050000.0  \n",
      "1                        right    DecoTurf - outdoors     2600000.0  \n",
      "3                         left                   Clay     1870000.0  \n",
      "4                         left  Plexicushion Prestige     4400000.0  \n",
      "5                        right    DecoTurf - outdoors     2500000.0  \n",
      "..                         ...                    ...           ...  \n",
      "59                       right  Plexicushion Prestige     1370000.0  \n",
      "60                       right    DecoTurf - outdoors     1400000.0  \n",
      "61                       right        Grass / Outdoor      700000.0  \n",
      "62                        left                   Clay     1000000.0  \n",
      "63                       right            Rebound Ace     1281000.0  \n",
      "\n",
      "[63 rows x 10 columns]\n"
     ]
    }
   ],
   "source": [
    "print(df)"
   ]
  },
  {
   "cell_type": "code",
   "execution_count": 19,
   "metadata": {},
   "outputs": [],
   "source": [
    "df['WINNER_ATP_RANKING'] = df['WINNER_ATP_RANKING'].astype(int)\n",
    "df['RUNNER-UP_ATP_RANKING'] = df['RUNNER-UP_ATP_RANKING'].astype(int)\n"
   ]
  },
  {
   "cell_type": "code",
   "execution_count": 21,
   "metadata": {},
   "outputs": [],
   "source": [
    "df.drop_duplicates(inplace=True)"
   ]
  },
  {
   "cell_type": "code",
   "execution_count": 28,
   "metadata": {},
   "outputs": [],
   "source": [
    "df['WINNER'] = df['WINNER'].str.lower()\n",
    "df['RUNNER-UP'] = df['RUNNER-UP'].str.lower()\n",
    "df['TOURNAMENT']=df['TOURNAMENT'].str.lower()\n",
    "df['WINNER_NATIONALITY']=df['WINNER_NATIONALITY'].str.upper()\n"
   ]
  },
  {
   "cell_type": "code",
   "execution_count": 29,
   "metadata": {},
   "outputs": [
    {
     "name": "stdout",
     "output_type": "stream",
     "text": [
      "    YEAR       TOURNAMENT           WINNER           RUNNER-UP  \\\n",
      "0   2023  australian open   novak djokovic  stefanos tsitsipas   \n",
      "1   2022        u.s. open   carlos alcaraz         casper rudd   \n",
      "3   2022      french open     rafael nadal         casper rudd   \n",
      "4   2022  australian open     rafael nadal     daniil medvedev   \n",
      "5   2021        u.s. open  daniil medvedev      novak djokovic   \n",
      "..   ...              ...              ...                 ...   \n",
      "59  2008  australian open   novak djokovic  jo-wilfried tsonga   \n",
      "60  2007        u.s. open    roger federer      novak djokovic   \n",
      "61  2007        wimbledon    roger federer        rafael nadal   \n",
      "62  2007      french open     rafael nadal       roger federer   \n",
      "63  2007  australian open    roger federer   fernando gonzalez   \n",
      "\n",
      "   WINNER_NATIONALITY  WINNER_ATP_RANKING  RUNNER-UP_ATP_RANKING  \\\n",
      "0             SERBIAN                   1                      3   \n",
      "1             SPANISH                   2                      5   \n",
      "3             SPANISH                   5                      8   \n",
      "4             SPANISH                   5                      2   \n",
      "5             RUSSIAN                   2                      1   \n",
      "..                ...                 ...                    ...   \n",
      "59            SERBIAN                   3                      6   \n",
      "60              SWISS                   1                      3   \n",
      "61              SWISS                   1                      2   \n",
      "62            SPANISH                   2                      1   \n",
      "63              SWISS                   1                      7   \n",
      "\n",
      "   WINNER_LEFT_OR_RIGHT_HANDED     TOURNAMENT_SURFACE  WINNER_PRIZE  \n",
      "0                        right  Plexicushion Prestige     2050000.0  \n",
      "1                        right    DecoTurf - outdoors     2600000.0  \n",
      "3                         left                   Clay     1870000.0  \n",
      "4                         left  Plexicushion Prestige     4400000.0  \n",
      "5                        right    DecoTurf - outdoors     2500000.0  \n",
      "..                         ...                    ...           ...  \n",
      "59                       right  Plexicushion Prestige     1370000.0  \n",
      "60                       right    DecoTurf - outdoors     1400000.0  \n",
      "61                       right        Grass / Outdoor      700000.0  \n",
      "62                        left                   Clay     1000000.0  \n",
      "63                       right            Rebound Ace     1281000.0  \n",
      "\n",
      "[63 rows x 10 columns]\n"
     ]
    }
   ],
   "source": [
    "print(df)"
   ]
  },
  {
   "cell_type": "code",
   "execution_count": 39,
   "metadata": {},
   "outputs": [],
   "source": [
    "df = df[df['YEAR'] >= 2000]\n",
    "df=df[df['YEAR']<=2023]"
   ]
  },
  {
   "cell_type": "code",
   "execution_count": 40,
   "metadata": {},
   "outputs": [
    {
     "name": "stdout",
     "output_type": "stream",
     "text": [
      "    YEAR       TOURNAMENT           WINNER           RUNNER-UP  \\\n",
      "0   2023  australian open   novak djokovic  stefanos tsitsipas   \n",
      "1   2022        u.s. open   carlos alcaraz         casper rudd   \n",
      "2   2022      french open     rafael nadal         casper rudd   \n",
      "3   2022  australian open     rafael nadal     daniil medvedev   \n",
      "4   2021        u.s. open  daniil medvedev      novak djokovic   \n",
      "..   ...              ...              ...                 ...   \n",
      "58  2008  australian open   novak djokovic  jo-wilfried tsonga   \n",
      "59  2007        u.s. open    roger federer      novak djokovic   \n",
      "60  2007        wimbledon    roger federer        rafael nadal   \n",
      "61  2007      french open     rafael nadal       roger federer   \n",
      "62  2007  australian open    roger federer   fernando gonzalez   \n",
      "\n",
      "   WINNER_NATIONALITY  WINNER_ATP_RANKING  RUNNER-UP_ATP_RANKING  \\\n",
      "0             SERBIAN                   1                      3   \n",
      "1             SPANISH                   2                      5   \n",
      "2             SPANISH                   5                      8   \n",
      "3             SPANISH                   5                      2   \n",
      "4             RUSSIAN                   2                      1   \n",
      "..                ...                 ...                    ...   \n",
      "58            SERBIAN                   3                      6   \n",
      "59              SWISS                   1                      3   \n",
      "60              SWISS                   1                      2   \n",
      "61            SPANISH                   2                      1   \n",
      "62              SWISS                   1                      7   \n",
      "\n",
      "   WINNER_LEFT_OR_RIGHT_HANDED     TOURNAMENT_SURFACE  WINNER_PRIZE  \n",
      "0                        right  Plexicushion Prestige     2050000.0  \n",
      "1                        right    DecoTurf - outdoors     2600000.0  \n",
      "2                         left                   Clay     1870000.0  \n",
      "3                         left  Plexicushion Prestige     4400000.0  \n",
      "4                        right    DecoTurf - outdoors     2500000.0  \n",
      "..                         ...                    ...           ...  \n",
      "58                       right  Plexicushion Prestige     1370000.0  \n",
      "59                       right    DecoTurf - outdoors     1400000.0  \n",
      "60                       right        Grass / Outdoor      700000.0  \n",
      "61                        left                   Clay     1000000.0  \n",
      "62                       right            Rebound Ace     1281000.0  \n",
      "\n",
      "[63 rows x 10 columns]\n"
     ]
    }
   ],
   "source": [
    "print(df)"
   ]
  },
  {
   "cell_type": "code",
   "execution_count": 41,
   "metadata": {},
   "outputs": [],
   "source": [
    "df.to_csv('cleaned_tennis_grand_slam_data.csv', index=False)"
   ]
  },
  {
   "cell_type": "code",
   "execution_count": 43,
   "metadata": {},
   "outputs": [
    {
     "name": "stdout",
     "output_type": "stream",
     "text": [
      "    YEAR       TOURNAMENT           WINNER           RUNNER-UP  \\\n",
      "0   2023  australian open   novak djokovic  stefanos tsitsipas   \n",
      "1   2022        u.s. open   carlos alcaraz         casper rudd   \n",
      "2   2022      french open     rafael nadal         casper rudd   \n",
      "3   2022  australian open     rafael nadal     daniil medvedev   \n",
      "4   2021        u.s. open  daniil medvedev      novak djokovic   \n",
      "..   ...              ...              ...                 ...   \n",
      "58  2008  australian open   novak djokovic  jo-wilfried tsonga   \n",
      "59  2007        u.s. open    roger federer      novak djokovic   \n",
      "60  2007        wimbledon    roger federer        rafael nadal   \n",
      "61  2007      french open     rafael nadal       roger federer   \n",
      "62  2007  australian open    roger federer   fernando gonzalez   \n",
      "\n",
      "   WINNER_NATIONALITY  WINNER_ATP_RANKING  RUNNER-UP_ATP_RANKING  \\\n",
      "0             SERBIAN                   1                      3   \n",
      "1             SPANISH                   2                      5   \n",
      "2             SPANISH                   5                      8   \n",
      "3             SPANISH                   5                      2   \n",
      "4             RUSSIAN                   2                      1   \n",
      "..                ...                 ...                    ...   \n",
      "58            SERBIAN                   3                      6   \n",
      "59              SWISS                   1                      3   \n",
      "60              SWISS                   1                      2   \n",
      "61            SPANISH                   2                      1   \n",
      "62              SWISS                   1                      7   \n",
      "\n",
      "   WINNER_LEFT_OR_RIGHT_HANDED     TOURNAMENT_SURFACE  WINNER_PRIZE  \n",
      "0                        right  Plexicushion Prestige     2050000.0  \n",
      "1                        right    DecoTurf - outdoors     2600000.0  \n",
      "2                         left                   Clay     1870000.0  \n",
      "3                         left  Plexicushion Prestige     4400000.0  \n",
      "4                        right    DecoTurf - outdoors     2500000.0  \n",
      "..                         ...                    ...           ...  \n",
      "58                       right  Plexicushion Prestige     1370000.0  \n",
      "59                       right    DecoTurf - outdoors     1400000.0  \n",
      "60                       right        Grass / Outdoor      700000.0  \n",
      "61                        left                   Clay     1000000.0  \n",
      "62                       right            Rebound Ace     1281000.0  \n",
      "\n",
      "[63 rows x 10 columns]\n"
     ]
    }
   ],
   "source": [
    "print(df)"
   ]
  }
 ],
 "metadata": {
  "kernelspec": {
   "display_name": "Python 3",
   "language": "python",
   "name": "python3"
  },
  "language_info": {
   "codemirror_mode": {
    "name": "ipython",
    "version": 3
   },
   "file_extension": ".py",
   "mimetype": "text/x-python",
   "name": "python",
   "nbconvert_exporter": "python",
   "pygments_lexer": "ipython3",
   "version": "3.11.5"
  },
  "orig_nbformat": 4
 },
 "nbformat": 4,
 "nbformat_minor": 2
}
